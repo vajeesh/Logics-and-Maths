{
 "cells": [
  {
   "cell_type": "markdown",
   "metadata": {},
   "source": [
    "# GMI23G Logic and Mathematics for Computer Science\n",
    "## Dalarna University, P3 spring 2022 -- Priyanka Mehra, Joonas Pääkkönen\n",
    "\n",
    "# Python Lab 1/4\n",
    "### Deadline: January 30, 2022, 23:59 CET time\n",
    "\n",
    "### Student name: Maha Vajeeshwaran Navaneethan\n",
    "### DU email address: h21mahna@du.se"
   ]
  },
  {
   "cell_type": "markdown",
   "metadata": {},
   "source": [
    "Upload this file with your solutions to Learn by the deadline. These labs may be discussed with fellow students, but each student must submit his or her individual solutions. Sage builds on NumPy, SciPy, etc. and is required for some of the labs. Submit your lab solutions to Learn with\n",
    "\n",
    "file name format: labX firstname lastname studentid.ipynb\n",
    "\n",
    "for example: lab1 lars larsson v21abcde.ipynb\n",
    "\n",
    "in the original .ipynb notebook document format. Add your name and email address to the header. Add your answers in Python with comments in English (or Swedish). Note: only one submission is allowed per deadline. Do not submit without proofreading your work. Make sure that your code runs."
   ]
  },
  {
   "cell_type": "markdown",
   "metadata": {},
   "source": [
    "In several of the exercises you will do over the next weeks, the integers you are dealing with get quite big. You might need to use long integers, otherwise you will be a bit restricted.\n",
    "\n",
    "A folder to upload solutions will be opened on Learn soon."
   ]
  },
  {
   "cell_type": "markdown",
   "metadata": {},
   "source": [
    "## Task 1"
   ]
  },
  {
   "cell_type": "markdown",
   "metadata": {},
   "source": [
    "Solve for $x$.\n",
    "\n",
    "a) $\\sqrt{x}=2$\n",
    "\n",
    "b) $e^{2x}=5$\n",
    "\n",
    "c) $\\sin{x}=1$\n",
    "\n"
   ]
  },
  {
   "cell_type": "code",
   "execution_count": 10,
   "metadata": {},
   "outputs": [
    {
     "data": {
      "text/plain": [
       "[x == 4]"
      ]
     },
     "execution_count": 10,
     "metadata": {},
     "output_type": "execute_result"
    }
   ],
   "source": [
    "solve((sqrt(x)==2),x)   # solution for the a - Task 1"
   ]
  },
  {
   "cell_type": "code",
   "execution_count": 11,
   "metadata": {},
   "outputs": [
    {
     "data": {
      "text/plain": [
       "[x == log(-sqrt(5)), x == 1/2*log(5)]"
      ]
     },
     "execution_count": 11,
     "metadata": {},
     "output_type": "execute_result"
    }
   ],
   "source": [
    "solve((exp(2*x)==5),x)  # solution for b - Task1"
   ]
  },
  {
   "cell_type": "code",
   "execution_count": 12,
   "metadata": {},
   "outputs": [
    {
     "data": {
      "text/plain": [
       "[x == 1/2*pi]"
      ]
     },
     "execution_count": 12,
     "metadata": {},
     "output_type": "execute_result"
    }
   ],
   "source": [
    "solve((sin(x)==1),x)    # Solution for c -  Task 1"
   ]
  },
  {
   "cell_type": "markdown",
   "metadata": {},
   "source": [
    "## Task 2"
   ]
  },
  {
   "cell_type": "markdown",
   "metadata": {},
   "source": [
    "Let $f(z) = z(z+1)$.\n",
    "\n",
    "a) Print the numerical value of $f(10)$.\n",
    "\n",
    "b) Plot $f(z)$, with $z\\in[0,3]$, using the plot() function."
   ]
  },
  {
   "cell_type": "code",
   "execution_count": 13,
   "metadata": {},
   "outputs": [
    {
     "name": "stdout",
     "output_type": "stream",
     "text": [
      "a). numerical value of  𝑓(10) is 110\n"
     ]
    }
   ],
   "source": [
    "# Enter you code here:)\n",
    "z = var('z')\n",
    "𝑓(𝑧)=𝑧*(𝑧+1)\n",
    "a = f(10)\n",
    "print ('a). numerical value of  𝑓(10) is',a)"
   ]
  },
  {
   "cell_type": "code",
   "execution_count": 14,
   "metadata": {},
   "outputs": [
    {
     "name": "stdout",
     "output_type": "stream",
     "text": [
      " The Value of Z =  [0. 1. 2. 3.] \n",
      " The value of f(z)=  [0.0, 2.0, 6.0, 12.0] \n",
      "\n",
      "\n",
      "b) Plot  𝑓(𝑧) , with  𝑧∈[0,3] , using the plot() function.\n"
     ]
    },
    {
     "data": {
      "image/png": "[encoded data removed]",
      "text/plain": [
       "<Figure size 432x288 with 1 Axes>"
      ]
     },
     "metadata": {
      "needs_background": "light"
     },
     "output_type": "display_data"
    }
   ],
   "source": [
    "import matplotlib.pyplot as plt\n",
    "import numpy as np\n",
    "\n",
    "z = var('z')\n",
    "f=𝑧*(𝑧+1)\n",
    "x = np.linspace(0,3,4) #4 points from 0 to 3 in ndarray\n",
    "\n",
    "y = list(map(f, x)) #evaluate f for each point in xvals \n",
    "\n",
    "print(\" The Value of Z = \",x,\"\\n\",\"The value of f(z)= \",y,\"\\n\\n\")\n",
    "print ('b) Plot  𝑓(𝑧) , with  𝑧∈[0,3] , using the plot() function.')\n",
    "plt.plot(x, y)\n",
    "\n",
    "\n",
    "plt.xlabel(\"z\")\n",
    "plt.ylabel(\"f(z)\")\n",
    "plt.savefig(\"temp\")"
   ]
  },
  {
   "cell_type": "markdown",
   "metadata": {},
   "source": [
    "## Task 3"
   ]
  },
  {
   "cell_type": "markdown",
   "metadata": {},
   "source": [
    "Let $f(x)= \\sin x \\cos x \\tan x$. Integrate and differentiate $f(x)$ w.r.t $x$."
   ]
  },
  {
   "cell_type": "code",
   "execution_count": 15,
   "metadata": {},
   "outputs": [
    {
     "name": "stdout",
     "output_type": "stream",
     "text": [
      " The Integrate value of f(x) is = 1/2*x - 1/4*sin(2*x) \n",
      " The differentiate value of f(x) =  (tan(x)^2 + 1)*cos(x)*sin(x) + cos(x)^2*tan(x) - sin(x)^2*tan(x)\n"
     ]
    }
   ],
   "source": [
    "# Enter your code here:) \n",
    "f(x)=sin(x)*cos(x)*tan(x) \n",
    "a = integrate(f(x),x)          # code for integrating f(x)\n",
    "\n",
    "b = diff(f(x),x)               # code for differentiate f(x)\n",
    "\n",
    "print(\" The Integrate value of f(x) is =\",a,\"\\n\",'The differentiate value of f(x) = ',b)"
   ]
  },
  {
   "cell_type": "markdown",
   "metadata": {},
   "source": [
    "## Task 4"
   ]
  },
  {
   "cell_type": "markdown",
   "metadata": {},
   "source": [
    "Perform the following operations on the two matrices defined below and print the resultant matrices.\n",
    "\n",
    "1. $A+B$\n",
    "2. $A-B$\n",
    "3. $AB$, where\n",
    "\n",
    "$$\n",
    "A = \\begin{pmatrix}\n",
    "1 & 2\\\\\n",
    "3 & 8\n",
    "\\end{pmatrix}\n",
    "$$\n",
    "\n",
    "$$\n",
    "B = \\begin{pmatrix}\n",
    "4 & 7\\\\\n",
    "10 & 9\n",
    "\\end{pmatrix}\n",
    "$$"
   ]
  },
  {
   "cell_type": "code",
   "execution_count": 16,
   "metadata": {},
   "outputs": [
    {
     "name": "stdout",
     "output_type": "stream",
     "text": [
      "Matrix for A is \n",
      "\n",
      "[1 2]\n",
      "[3 8]\n",
      "\n",
      "\n",
      "\n",
      "\n",
      " Matrix for B is \n",
      "\n",
      "[ 4  7]\n",
      "[10  9]\n",
      "\n",
      "\n",
      "1. The solution for the matrix A+B\n",
      "\n",
      "[ 5  9]\n",
      "[13 17]\n",
      "\n",
      "2. The solution for the matrix A-B\n",
      "\n",
      "[-3 -5]\n",
      "[-7 -1]\n",
      "\n",
      "3. The solution for the matrix AB\n",
      "\n",
      "[24 25]\n",
      "[92 93]\n"
     ]
    }
   ],
   "source": [
    "# Enter your code here:)\n",
    "A=matrix([[1,2],[3,8]])\n",
    "\n",
    "B=matrix([[4,7],[10,9]])\n",
    "\n",
    "a = A+B   # formula for A+B\n",
    "b = A-B   # formula for A-B\n",
    "c = A*B   # formula for AB\n",
    "\n",
    "print(\"Matrix for A is \",A,\"\\n\",\" Matrix for B is \",B,  sep='\\n\\n')\n",
    "\n",
    "print(\"\\n\\n1. The solution for the matrix A+B\",a,\"2. The solution for the matrix A-B\",b,\"3. The solution for the matrix AB\",c, sep='\\n\\n') "
   ]
  },
  {
   "cell_type": "markdown",
   "metadata": {},
   "source": [
    "## Task 5"
   ]
  },
  {
   "cell_type": "markdown",
   "metadata": {},
   "source": [
    "Create a boolean formula and a truth table for the expression below, by using SageMath.\n",
    "\n",
    "Expression: $(A' \\land B) \\lor (A \\land B')$"
   ]
  },
  {
   "cell_type": "code",
   "execution_count": 17,
   "metadata": {},
   "outputs": [
    {
     "data": {
      "text/plain": [
       "A      B      value\n",
       "False  False  False  \n",
       "False  True   True   \n",
       "True   False  True   \n",
       "True   True   False  \n"
      ]
     },
     "execution_count": 17,
     "metadata": {},
     "output_type": "execute_result"
    }
   ],
   "source": [
    "import sage.logic.propcalc as propcalc\n",
    "T = propcalc.formula(\"(~A&B)|(A&~B)\")  # boolean formula\n",
    "T.truthtable()   #truthtable"
   ]
  }
 ],
 "metadata": {
  "kernelspec": {
   "display_name": "SageMath 9.3",
   "language": "sage",
   "name": "sagemath"
  },
  "language_info": {
   "codemirror_mode": {
    "name": "ipython",
    "version": 3
   },
   "file_extension": ".py",
   "mimetype": "text/x-python",
   "name": "python",
   "nbconvert_exporter": "python",
   "pygments_lexer": "ipython3",
   "version": "3.7.10"
  }
 },
 "nbformat": 4,
 "nbformat_minor": 4
}
